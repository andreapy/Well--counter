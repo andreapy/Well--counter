{
 "cells": [
  {
   "cell_type": "code",
   "execution_count": 1,
   "metadata": {
    "collapsed": true
   },
   "outputs": [],
   "source": [
    "from scipy.optimize import curve_fit\n",
    "import numpy as np\n",
    "import matplotlib.pyplot as plt\n",
    "import seaborn as sns\n",
    "import pandas as pd\n",
    "%matplotlib inline"
   ]
  },
  {
   "cell_type": "code",
   "execution_count": 4,
   "metadata": {},
   "outputs": [
    {
     "name": "stdout",
     "output_type": "stream",
     "text": [
      "a1 (corte con y) = -99.986889\n",
      "a2 (pendiente) = 1.364597\n"
     ]
    }
   ],
   "source": [
    "def canalenergia(x1,c,d):\n",
    "    return  c + d*x1\n",
    "#----------------------------------------------------------------------\n",
    "\n",
    "Canales=np.array([95.22365083,   556.83737835,   925.42214936,  1033.81772817])\n",
    "\n",
    "Energia=np.array([32.0,661.657,1137.28,1332.49])\n",
    "picoscal=4\n",
    "\n",
    "pce = [0,(Energia[0]-Energia[picoscal-1])/(Canales[0]-Canales[picoscal-1])]#rect\n",
    "       \n",
    "poptNaI, pcovNaI = curve_fit(canalenergia,Canales,Energia,pce)\n",
    "print(\"a1 (corte con y) = %f\" % (poptNaI[0]))\n",
    "print(\"a2 (pendiente) = %f\" % (poptNaI[1]))\n",
    "\n",
    "NCount_Co1=np.sqrt(2*np.pi)*646.0*18.8\n",
    "NCount_Co2=np.sqrt(2*np.pi)*601.78*22.7\n",
    "NCount_Cs=np.sqrt(2*np.pi)*3916.6*14.8\n",
    "NCountRx_Cs=np.sqrt(2*np.pi)*1654.5*2.8"
   ]
  },
  {
   "cell_type": "code",
   "execution_count": 5,
   "metadata": {},
   "outputs": [
    {
     "data": {
      "text/plain": [
       "[0, 1.3855723484699822]"
      ]
     },
     "execution_count": 5,
     "metadata": {},
     "output_type": "execute_result"
    }
   ],
   "source": [
    "pce"
   ]
  },
  {
   "cell_type": "code",
   "execution_count": 6,
   "metadata": {},
   "outputs": [
    {
     "data": {
      "text/plain": [
       "32.0"
      ]
     },
     "execution_count": 6,
     "metadata": {},
     "output_type": "execute_result"
    }
   ],
   "source": [
    "Energia[0]"
   ]
  },
  {
   "cell_type": "code",
   "execution_count": 7,
   "metadata": {},
   "outputs": [
    {
     "data": {
      "text/plain": [
       "1332.49"
      ]
     },
     "execution_count": 7,
     "metadata": {},
     "output_type": "execute_result"
    }
   ],
   "source": [
    "Energia[picoscal-1]\n"
   ]
  },
  {
   "cell_type": "code",
   "execution_count": null,
   "metadata": {
    "collapsed": true
   },
   "outputs": [],
   "source": []
  }
 ],
 "metadata": {
  "kernelspec": {
   "display_name": "Python 3",
   "language": "python",
   "name": "python3"
  },
  "language_info": {
   "codemirror_mode": {
    "name": "ipython",
    "version": 3
   },
   "file_extension": ".py",
   "mimetype": "text/x-python",
   "name": "python",
   "nbconvert_exporter": "python",
   "pygments_lexer": "ipython3",
   "version": "3.5.5"
  }
 },
 "nbformat": 4,
 "nbformat_minor": 2
}
