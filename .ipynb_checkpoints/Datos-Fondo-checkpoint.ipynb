{
 "cells": [
  {
   "cell_type": "code",
   "execution_count": 1,
   "metadata": {
    "collapsed": true,
    "scrolled": true
   },
   "outputs": [],
   "source": [
    "import pandas as pd \n",
    "import numpy as np\n",
    "\n",
    "import matplotlib.pyplot as plt\n",
    "\n",
    "#### Paquete de tiempo\n",
    "import datetime\n",
    "\n",
    "%matplotlib inline"
   ]
  },
  {
   "cell_type": "code",
   "execution_count": 2,
   "metadata": {
    "collapsed": true
   },
   "outputs": [],
   "source": [
    "### Cargar datos en Dataframes\n",
    "\n",
    "Na_spectrum = pd.read_csv('INPUT/SODIO22.xls','Sheet 1', delimiter =' ', header = None, \n",
    "                 skiprows = 16, names =['del','Channel','Energy','Counts'],\n",
    "                 usecols = ['Channel','Counts'])\n",
    "\n",
    "Mn_spectrum = pd.read_csv('INPUT/MAGNESIO54.xls','Sheet 1', delimiter =' ', header = None, \n",
    "                 skiprows = 16, names =['del','Channel','Energy','Counts'],\n",
    "                 usecols = ['Channel','Counts'])\n",
    "\n",
    "Co57_spectrum = pd.read_csv('INPUT/COBALTO57.xls','Sheet 1', delimiter =' ', header = None, \n",
    "                 skiprows = 16, names =['del','Channel','Energy','Counts'],\n",
    "                 usecols = ['Channel','Counts'])\n",
    "\n",
    "Co60_spectrum = pd.read_csv('INPUT/COBALTO60.xls','Sheet 1', delimiter =' ', header = None, \n",
    "                 skiprows = 16, names =['del','Channel','Energy','Counts'],\n",
    "                 usecols = ['Channel','Counts'])\n",
    "\n",
    "Cd_spectrum = pd.read_csv('INPUT/CADMIO109.xls','Sheet 1', delimiter =' ', header = None, \n",
    "                 skiprows = 16, names =['del','Channel','Energy','Counts'],\n",
    "                 usecols = ['Channel','Counts'])\n",
    "\n",
    "Ba_spectrum = pd.read_csv('INPUT/BARIO133.xls','Sheet 1', delimiter =' ', header = None, \n",
    "                 skiprows = 16, names =['del','Channel','Energy','Counts'],\n",
    "                 usecols = ['Channel','Counts'])\n",
    "\n",
    "Cs_spectrum = pd.read_csv('INPUT/CESIO137.xls','Sheet 1', delimiter =' ', header = None, \n",
    "                 skiprows = 16, names =['del','Channel','Energy','Counts'],\n",
    "                 usecols = ['Channel','Counts'])\n",
    "\n",
    "Eu_spectrum = pd.read_csv('INPUT/EUROPIO152.xls','Sheet 1', delimiter =' ', header = None, \n",
    "                 skiprows = 16, names =['del','Channel','Energy','Counts'],\n",
    "                 usecols = ['Channel','Counts'])\n",
    "\n",
    "Fondo = pd.read_csv('INPUT/FONDO.xls','Sheet 1', delimiter =' ', header = None, \n",
    "                 skiprows = 16, names =['del','Channel','Energy','Counts'],\n",
    "                 usecols = ['Channel','Counts'])\n",
    "\n"
   ]
  },
  {
   "cell_type": "code",
   "execution_count": 3,
   "metadata": {
    "collapsed": true
   },
   "outputs": [],
   "source": [
    "### Concatenar todos los espectros\n",
    "df = pd.concat([Na_spectrum, Mn_spectrum, Co57_spectrum, Co60_spectrum, Cd_spectrum,\n",
    "                Ba_spectrum, Cs_spectrum, Eu_spectrum, Fondo], ignore_index=True)\n",
    "se = pd.Series(['Na22']*1024+['Mn54']*1024+['Co57']*1024+['Co60']*1024+['Cd109']*1024\n",
    "               +['Ba133']*1024+['Cs137']*1024+['Eu152']*1024+['Fondo']*1024)\n",
    "df['RN'] = se.values\n",
    "#df"
   ]
  },
  {
   "cell_type": "code",
   "execution_count": 4,
   "metadata": {
    "collapsed": true
   },
   "outputs": [],
   "source": [
    "##### Cuentas totales en el espectro por nucleido\n",
    "test=df.groupby(['RN'],as_index=False).sum()\n",
    "\n",
    "#test[['RN','Counts']]\n",
    "gross = pd.read_csv('crudos.csv', parse_dates=['Date_Ref'])\n",
    "### Actividad de referencia en kBq\n",
    "### Half life en días\n",
    "#gross\n",
    "\n",
    "#### Merge Dataframes\n",
    "dt = pd.merge(gross,test[['RN','Counts']], on='RN')"
   ]
  },
  {
   "cell_type": "code",
   "execution_count": 5,
   "metadata": {},
   "outputs": [
    {
     "data": {
      "text/html": [
       "<div>\n",
       "<table border=\"1\" class=\"dataframe\">\n",
       "  <thead>\n",
       "    <tr style=\"text-align: right;\">\n",
       "      <th></th>\n",
       "      <th>RN</th>\n",
       "      <th>Actividad_Ref</th>\n",
       "      <th>Date_Ref</th>\n",
       "      <th>Live_Time</th>\n",
       "      <th>Real_Time</th>\n",
       "      <th>Half_life</th>\n",
       "    </tr>\n",
       "  </thead>\n",
       "  <tbody>\n",
       "    <tr>\n",
       "      <th>0</th>\n",
       "      <td>Na22</td>\n",
       "      <td>38.26</td>\n",
       "      <td>2011-03-01</td>\n",
       "      <td>1000.00</td>\n",
       "      <td>1008.74</td>\n",
       "      <td>950.57</td>\n",
       "    </tr>\n",
       "    <tr>\n",
       "      <th>1</th>\n",
       "      <td>Mn54</td>\n",
       "      <td>37.26</td>\n",
       "      <td>2011-03-01</td>\n",
       "      <td>1000.00</td>\n",
       "      <td>1000.67</td>\n",
       "      <td>312.29</td>\n",
       "    </tr>\n",
       "    <tr>\n",
       "      <th>2</th>\n",
       "      <td>Co57</td>\n",
       "      <td>37.04</td>\n",
       "      <td>2011-03-01</td>\n",
       "      <td>1000.00</td>\n",
       "      <td>1000.09</td>\n",
       "      <td>271.80</td>\n",
       "    </tr>\n",
       "    <tr>\n",
       "      <th>3</th>\n",
       "      <td>Co60</td>\n",
       "      <td>38.74</td>\n",
       "      <td>2011-03-01</td>\n",
       "      <td>1000.00</td>\n",
       "      <td>1019.71</td>\n",
       "      <td>1925.23</td>\n",
       "    </tr>\n",
       "    <tr>\n",
       "      <th>4</th>\n",
       "      <td>Cd109</td>\n",
       "      <td>37.07</td>\n",
       "      <td>2011-03-01</td>\n",
       "      <td>1000.00</td>\n",
       "      <td>1000.68</td>\n",
       "      <td>461.40</td>\n",
       "    </tr>\n",
       "    <tr>\n",
       "      <th>5</th>\n",
       "      <td>Ba133</td>\n",
       "      <td>37.04</td>\n",
       "      <td>2011-03-01</td>\n",
       "      <td>1000.00</td>\n",
       "      <td>1061.05</td>\n",
       "      <td>3848.70</td>\n",
       "    </tr>\n",
       "    <tr>\n",
       "      <th>6</th>\n",
       "      <td>Cs137</td>\n",
       "      <td>38.37</td>\n",
       "      <td>2011-03-01</td>\n",
       "      <td>1000.00</td>\n",
       "      <td>1038.52</td>\n",
       "      <td>10990.00</td>\n",
       "    </tr>\n",
       "    <tr>\n",
       "      <th>7</th>\n",
       "      <td>Eu152</td>\n",
       "      <td>18.50</td>\n",
       "      <td>2007-03-01</td>\n",
       "      <td>1000.00</td>\n",
       "      <td>1025.62</td>\n",
       "      <td>4941.00</td>\n",
       "    </tr>\n",
       "    <tr>\n",
       "      <th>8</th>\n",
       "      <td>Fondo</td>\n",
       "      <td>NaN</td>\n",
       "      <td>NaT</td>\n",
       "      <td>999.95</td>\n",
       "      <td>1000.00</td>\n",
       "      <td>NaN</td>\n",
       "    </tr>\n",
       "  </tbody>\n",
       "</table>\n",
       "</div>"
      ],
      "text/plain": [
       "      RN  Actividad_Ref   Date_Ref  Live_Time  Real_Time  Half_life\n",
       "0   Na22          38.26 2011-03-01    1000.00    1008.74     950.57\n",
       "1   Mn54          37.26 2011-03-01    1000.00    1000.67     312.29\n",
       "2   Co57          37.04 2011-03-01    1000.00    1000.09     271.80\n",
       "3   Co60          38.74 2011-03-01    1000.00    1019.71    1925.23\n",
       "4  Cd109          37.07 2011-03-01    1000.00    1000.68     461.40\n",
       "5  Ba133          37.04 2011-03-01    1000.00    1061.05    3848.70\n",
       "6  Cs137          38.37 2011-03-01    1000.00    1038.52   10990.00\n",
       "7  Eu152          18.50 2007-03-01    1000.00    1025.62    4941.00\n",
       "8  Fondo            NaN        NaT     999.95    1000.00        NaN"
      ]
     },
     "execution_count": 5,
     "metadata": {},
     "output_type": "execute_result"
    }
   ],
   "source": [
    "#gross"
   ]
  },
  {
   "cell_type": "code",
   "execution_count": 6,
   "metadata": {
    "collapsed": true
   },
   "outputs": [],
   "source": [
    "##### Día de medición de fuentes tipo barra \n",
    "dM='31/10/2019'\n",
    "dMbarra= datetime.datetime.strptime(dM,'%d/%m/%Y')"
   ]
  },
  {
   "cell_type": "code",
   "execution_count": 7,
   "metadata": {
    "collapsed": true
   },
   "outputs": [],
   "source": [
    "#### Tiempo transcurrido en días \n",
    "timeE=(dMbarra- gross['Date_Ref'])\n",
    "#timeE\n",
    "dt['timeE']= timeE.dt.days.values\n",
    "#dt['Half_life']\n",
    "#dt['timeE']"
   ]
  },
  {
   "cell_type": "code",
   "execution_count": 15,
   "metadata": {},
   "outputs": [
    {
     "data": {
      "text/plain": [
       "0     3802.983737\n",
       "1       33.067162\n",
       "2       11.539635\n",
       "3    12391.450828\n",
       "4      318.740672\n",
       "5    20943.008024\n",
       "6    31424.693908\n",
       "7     9666.564552\n",
       "8             NaN\n",
       "dtype: float64"
      ]
     },
     "execution_count": 15,
     "metadata": {},
     "output_type": "execute_result"
    }
   ],
   "source": [
    "### Lambda\n",
    "Lambda = np.log(2)/dt['Half_life']\n",
    "### Actividad día de medición en Bequerelios (dps)\n",
    "Actividad_dps = (dt['Actividad_Ref']*np.exp(-Lambda*dt[\"timeE\"]))*1000\n",
    "### Actividad día de medición en (dpm)\n",
    "Actividad_dpm = (dt['Actividad_Ref']*np.exp(-Lambda*dt[\"timeE\"]))*1000*60\n",
    "Actividad_dps"
   ]
  },
  {
   "cell_type": "code",
   "execution_count": 11,
   "metadata": {
    "collapsed": true
   },
   "outputs": [],
   "source": [
    "#### Cuentas en el espectro de Fondo\n",
    "cuentas_fondo = np.round((dt[dt['RN'] == 'Fondo']['Counts'] * 1000)/dt[dt['RN'] == 'Fondo']['Live_Time'],0)\n",
    "#### Tasa de cuentas en el espectro de Fondo\n",
    "tasa_fondo = dt[dt['RN'] == 'Fondo']['Counts']/(dt[dt['RN'] == 'Fondo']['Live_Time']/60)\n",
    "#### Tasa de cuentas netas en el espectro de Fondo\n",
    "tasa_fondoN = (dt[dt['RN'] == 'Fondo']['Counts']/(dt[dt['RN'] == 'Fondo']['Live_Time']/60))/(dt[dt['RN'] == 'Fondo']['Live_Time']/60)"
   ]
  },
  {
   "cell_type": "code",
   "execution_count": 12,
   "metadata": {},
   "outputs": [
    {
     "data": {
      "text/plain": [
       "array([ 58.01980184])"
      ]
     },
     "execution_count": 12,
     "metadata": {},
     "output_type": "execute_result"
    }
   ],
   "source": [
    "#cuentas_fondo.values\n",
    "#tasa_fondo.values\n",
    "tasa_fondoN.values"
   ]
  },
  {
   "cell_type": "markdown",
   "metadata": {},
   "source": [
    "### Aplicando Poisson a datos \n",
    "\n",
    "* Número de cuentas : N\n",
    "\n",
    "* Sigma de cuentas \n",
    " $$\\sigma_C = \\sqrt N$$\n",
    "\n",
    "* Cuentas netas: \n",
    "\n",
    "    $$N_g \\text{:Gross counts}$$\n",
    "    $$N_b \\text{:Background counts}$$\n",
    "    $$t_g \\text{:Gross time}$$\n",
    "    $$t_b \\text{:Background time}$$\n",
    "    \n",
    " $$N_s = N_g -\\frac{N_b}{t_b}\\cdot t_g$$\n",
    "\n",
    "* Sigma de cuentas netas: \n",
    "\n",
    "\n",
    " $$\\sigma_s = \\sqrt{N_g +\\frac{N_b}{t_b}\\cdot t_g}$$\n",
    "\n",
    "* Tasa de Cuentas: t en minutos \n",
    "\n",
    "$$ R = \\frac{N}{t}$$\n",
    "\n",
    "* Sigma Tasa\n",
    "\n",
    "$$ \\sigma_R = \\sqrt{\\frac{R}{t}}$$\n",
    "\n",
    "* Tasa Neta: t en minutos \n",
    "\n",
    "$$ R_s = R_g-R_b$$\n",
    "\n",
    "* Sigma Tasa Neta\n",
    "\n",
    "$$ \\sigma_{R_s} = \\sqrt{\\frac{R_g}{t_g}+\\frac{R_b}{t_b}}$$"
   ]
  },
  {
   "cell_type": "code",
   "execution_count": 13,
   "metadata": {
    "collapsed": true
   },
   "outputs": [],
   "source": [
    "#### Sigma de Cuentas\n",
    "dt['Sigma_C']= np.sqrt(dt['Counts'])\n",
    "\n",
    "#### Dead Time %\n",
    "dt['Dead_Time_por'] = ((dt['Real_Time']-dt['Live_Time'])/dt['Real_Time'])*100\n",
    "\n",
    "#### Dead Time [s]\n",
    "dt['Dead_Time'] = dt['Real_Time']-dt['Live_Time']\n",
    "\n",
    "\n",
    "#### Cuentas netas\n",
    "dt['Cuentas_netas'] = dt['Counts']-cuentas_fondo.values\n",
    "\n",
    "#### Sigma de Cuentas netas\n",
    "dt['Sigma_CN'] = np.sqrt((dt['Counts']+ cuentas_fondo.values))\n",
    "\n",
    "#### Tasa de cuentas en cpm\n",
    "dt['Tasa'] = dt['Counts']/(dt['Live_Time']/60)\n",
    "\n",
    "#### Sigma Tasa \n",
    "dt['Sigma_Tasa'] = np.sqrt(dt['Tasa']/(dt['Live_Time']/60))\n",
    "\n",
    "#### Tasa netas\n",
    "dt['Tasa_netas'] = dt['Tasa']-tasa_fondo.values\n",
    "\n",
    "#### Sigma Tasa netas\n",
    "dt['Sigma_TasaN'] = np.sqrt((dt['Tasa']/(dt['Live_Time']/60))+ tasa_fondoN.values)"
   ]
  },
  {
   "cell_type": "code",
   "execution_count": 14,
   "metadata": {},
   "outputs": [
    {
     "data": {
      "text/html": [
       "<div>\n",
       "<table border=\"1\" class=\"dataframe\">\n",
       "  <thead>\n",
       "    <tr style=\"text-align: right;\">\n",
       "      <th></th>\n",
       "      <th>RN</th>\n",
       "      <th>Actividad_Ref</th>\n",
       "      <th>Date_Ref</th>\n",
       "      <th>Live_Time</th>\n",
       "      <th>Real_Time</th>\n",
       "      <th>Half_life</th>\n",
       "      <th>Counts</th>\n",
       "      <th>timeE</th>\n",
       "      <th>Sigma_C</th>\n",
       "      <th>Dead_Time_por</th>\n",
       "      <th>Dead_Time</th>\n",
       "      <th>Cuentas_netas</th>\n",
       "      <th>Sigma_CN</th>\n",
       "      <th>Tasa</th>\n",
       "      <th>Sigma_Tasa</th>\n",
       "      <th>Tasa_netas</th>\n",
       "      <th>Sigma_TasaN</th>\n",
       "    </tr>\n",
       "  </thead>\n",
       "  <tbody>\n",
       "    <tr>\n",
       "      <th>0</th>\n",
       "      <td>Na22</td>\n",
       "      <td>38.26</td>\n",
       "      <td>2011-03-01</td>\n",
       "      <td>1000.00</td>\n",
       "      <td>1008.74</td>\n",
       "      <td>950.57</td>\n",
       "      <td>2864059</td>\n",
       "      <td>3166.0</td>\n",
       "      <td>1692.353096</td>\n",
       "      <td>0.866427</td>\n",
       "      <td>8.74</td>\n",
       "      <td>2847943.0</td>\n",
       "      <td>1697.107834</td>\n",
       "      <td>1.718435e+05</td>\n",
       "      <td>101.541186</td>\n",
       "      <td>1.708766e+05</td>\n",
       "      <td>101.826481</td>\n",
       "    </tr>\n",
       "    <tr>\n",
       "      <th>1</th>\n",
       "      <td>Mn54</td>\n",
       "      <td>37.26</td>\n",
       "      <td>2011-03-01</td>\n",
       "      <td>1000.00</td>\n",
       "      <td>1000.67</td>\n",
       "      <td>312.29</td>\n",
       "      <td>223711</td>\n",
       "      <td>3166.0</td>\n",
       "      <td>472.980972</td>\n",
       "      <td>0.066955</td>\n",
       "      <td>0.67</td>\n",
       "      <td>207595.0</td>\n",
       "      <td>489.721349</td>\n",
       "      <td>1.342266e+04</td>\n",
       "      <td>28.378858</td>\n",
       "      <td>1.245571e+04</td>\n",
       "      <td>29.383318</td>\n",
       "    </tr>\n",
       "    <tr>\n",
       "      <th>2</th>\n",
       "      <td>Co57</td>\n",
       "      <td>37.04</td>\n",
       "      <td>2011-03-01</td>\n",
       "      <td>1000.00</td>\n",
       "      <td>1000.09</td>\n",
       "      <td>271.80</td>\n",
       "      <td>31084</td>\n",
       "      <td>3166.0</td>\n",
       "      <td>176.306551</td>\n",
       "      <td>0.008999</td>\n",
       "      <td>0.09</td>\n",
       "      <td>14968.0</td>\n",
       "      <td>217.255610</td>\n",
       "      <td>1.865040e+03</td>\n",
       "      <td>10.578393</td>\n",
       "      <td>8.980917e+02</td>\n",
       "      <td>13.035421</td>\n",
       "    </tr>\n",
       "    <tr>\n",
       "      <th>3</th>\n",
       "      <td>Co60</td>\n",
       "      <td>38.74</td>\n",
       "      <td>2011-03-01</td>\n",
       "      <td>1000.00</td>\n",
       "      <td>1019.71</td>\n",
       "      <td>1925.23</td>\n",
       "      <td>6346332</td>\n",
       "      <td>3166.0</td>\n",
       "      <td>2519.192728</td>\n",
       "      <td>1.932902</td>\n",
       "      <td>19.71</td>\n",
       "      <td>6330216.0</td>\n",
       "      <td>2522.389343</td>\n",
       "      <td>3.807799e+05</td>\n",
       "      <td>151.151564</td>\n",
       "      <td>3.798130e+05</td>\n",
       "      <td>151.343368</td>\n",
       "    </tr>\n",
       "    <tr>\n",
       "      <th>4</th>\n",
       "      <td>Cd109</td>\n",
       "      <td>37.07</td>\n",
       "      <td>2011-03-01</td>\n",
       "      <td>1000.00</td>\n",
       "      <td>1000.68</td>\n",
       "      <td>461.40</td>\n",
       "      <td>227003</td>\n",
       "      <td>3166.0</td>\n",
       "      <td>476.448318</td>\n",
       "      <td>0.067954</td>\n",
       "      <td>0.68</td>\n",
       "      <td>210887.0</td>\n",
       "      <td>493.070989</td>\n",
       "      <td>1.362018e+04</td>\n",
       "      <td>28.586899</td>\n",
       "      <td>1.265323e+04</td>\n",
       "      <td>29.584297</td>\n",
       "    </tr>\n",
       "    <tr>\n",
       "      <th>5</th>\n",
       "      <td>Ba133</td>\n",
       "      <td>37.04</td>\n",
       "      <td>2011-03-01</td>\n",
       "      <td>1000.00</td>\n",
       "      <td>1061.05</td>\n",
       "      <td>3848.70</td>\n",
       "      <td>20045630</td>\n",
       "      <td>3166.0</td>\n",
       "      <td>4477.234638</td>\n",
       "      <td>5.753735</td>\n",
       "      <td>61.05</td>\n",
       "      <td>20029514.0</td>\n",
       "      <td>4479.034048</td>\n",
       "      <td>1.202738e+06</td>\n",
       "      <td>268.634078</td>\n",
       "      <td>1.201771e+06</td>\n",
       "      <td>268.742047</td>\n",
       "    </tr>\n",
       "    <tr>\n",
       "      <th>6</th>\n",
       "      <td>Cs137</td>\n",
       "      <td>38.37</td>\n",
       "      <td>2011-03-01</td>\n",
       "      <td>1000.00</td>\n",
       "      <td>1038.52</td>\n",
       "      <td>10990.00</td>\n",
       "      <td>12697536</td>\n",
       "      <td>3166.0</td>\n",
       "      <td>3563.360212</td>\n",
       "      <td>3.709125</td>\n",
       "      <td>38.52</td>\n",
       "      <td>12681420.0</td>\n",
       "      <td>3565.620844</td>\n",
       "      <td>7.618522e+05</td>\n",
       "      <td>213.801613</td>\n",
       "      <td>7.608852e+05</td>\n",
       "      <td>213.937256</td>\n",
       "    </tr>\n",
       "    <tr>\n",
       "      <th>7</th>\n",
       "      <td>Eu152</td>\n",
       "      <td>18.50</td>\n",
       "      <td>2007-03-01</td>\n",
       "      <td>1000.00</td>\n",
       "      <td>1025.62</td>\n",
       "      <td>4941.00</td>\n",
       "      <td>8447320</td>\n",
       "      <td>4627.0</td>\n",
       "      <td>2906.427360</td>\n",
       "      <td>2.498001</td>\n",
       "      <td>25.62</td>\n",
       "      <td>8431204.0</td>\n",
       "      <td>2909.198515</td>\n",
       "      <td>5.068392e+05</td>\n",
       "      <td>174.385642</td>\n",
       "      <td>5.058723e+05</td>\n",
       "      <td>174.551917</td>\n",
       "    </tr>\n",
       "    <tr>\n",
       "      <th>8</th>\n",
       "      <td>Fondo</td>\n",
       "      <td>NaN</td>\n",
       "      <td>NaT</td>\n",
       "      <td>999.95</td>\n",
       "      <td>1000.00</td>\n",
       "      <td>NaN</td>\n",
       "      <td>16115</td>\n",
       "      <td>NaN</td>\n",
       "      <td>126.944870</td>\n",
       "      <td>0.005000</td>\n",
       "      <td>0.05</td>\n",
       "      <td>-1.0</td>\n",
       "      <td>179.529942</td>\n",
       "      <td>9.669483e+02</td>\n",
       "      <td>7.617073</td>\n",
       "      <td>0.000000e+00</td>\n",
       "      <td>10.772168</td>\n",
       "    </tr>\n",
       "  </tbody>\n",
       "</table>\n",
       "</div>"
      ],
      "text/plain": [
       "      RN  Actividad_Ref   Date_Ref  Live_Time  Real_Time  Half_life    Counts  \\\n",
       "0   Na22          38.26 2011-03-01    1000.00    1008.74     950.57   2864059   \n",
       "1   Mn54          37.26 2011-03-01    1000.00    1000.67     312.29    223711   \n",
       "2   Co57          37.04 2011-03-01    1000.00    1000.09     271.80     31084   \n",
       "3   Co60          38.74 2011-03-01    1000.00    1019.71    1925.23   6346332   \n",
       "4  Cd109          37.07 2011-03-01    1000.00    1000.68     461.40    227003   \n",
       "5  Ba133          37.04 2011-03-01    1000.00    1061.05    3848.70  20045630   \n",
       "6  Cs137          38.37 2011-03-01    1000.00    1038.52   10990.00  12697536   \n",
       "7  Eu152          18.50 2007-03-01    1000.00    1025.62    4941.00   8447320   \n",
       "8  Fondo            NaN        NaT     999.95    1000.00        NaN     16115   \n",
       "\n",
       "    timeE      Sigma_C  Dead_Time_por  Dead_Time  Cuentas_netas     Sigma_CN  \\\n",
       "0  3166.0  1692.353096       0.866427       8.74      2847943.0  1697.107834   \n",
       "1  3166.0   472.980972       0.066955       0.67       207595.0   489.721349   \n",
       "2  3166.0   176.306551       0.008999       0.09        14968.0   217.255610   \n",
       "3  3166.0  2519.192728       1.932902      19.71      6330216.0  2522.389343   \n",
       "4  3166.0   476.448318       0.067954       0.68       210887.0   493.070989   \n",
       "5  3166.0  4477.234638       5.753735      61.05     20029514.0  4479.034048   \n",
       "6  3166.0  3563.360212       3.709125      38.52     12681420.0  3565.620844   \n",
       "7  4627.0  2906.427360       2.498001      25.62      8431204.0  2909.198515   \n",
       "8     NaN   126.944870       0.005000       0.05           -1.0   179.529942   \n",
       "\n",
       "           Tasa  Sigma_Tasa    Tasa_netas  Sigma_TasaN  \n",
       "0  1.718435e+05  101.541186  1.708766e+05   101.826481  \n",
       "1  1.342266e+04   28.378858  1.245571e+04    29.383318  \n",
       "2  1.865040e+03   10.578393  8.980917e+02    13.035421  \n",
       "3  3.807799e+05  151.151564  3.798130e+05   151.343368  \n",
       "4  1.362018e+04   28.586899  1.265323e+04    29.584297  \n",
       "5  1.202738e+06  268.634078  1.201771e+06   268.742047  \n",
       "6  7.618522e+05  213.801613  7.608852e+05   213.937256  \n",
       "7  5.068392e+05  174.385642  5.058723e+05   174.551917  \n",
       "8  9.669483e+02    7.617073  0.000000e+00    10.772168  "
      ]
     },
     "execution_count": 14,
     "metadata": {},
     "output_type": "execute_result"
    }
   ],
   "source": [
    "dt"
   ]
  },
  {
   "cell_type": "code",
   "execution_count": 13,
   "metadata": {},
   "outputs": [
    {
     "data": {
      "text/plain": [
       "<matplotlib.legend.Legend at 0x1146b9da0>"
      ]
     },
     "execution_count": 13,
     "metadata": {},
     "output_type": "execute_result"
    },
    {
     "data": {
      "image/png": "[encoded data removed]",
      "text/plain": [
       "<Figure size 432x288 with 1 Axes>"
      ]
     },
     "metadata": {},
     "output_type": "display_data"
    }
   ],
   "source": [
    "plt.plot(dt['Dead_Time'],dt['Tasa_netas']/100000,'o')\n",
    "\n",
    "#plt.errorbar(dt['Dead_Time'],dt['Tasa_netas'], yerr=dt['Sigma_TasaN'],fmt='.b',label='datos',capsize=5)\n",
    "#plt.plot(data['x'],(a+(b*data['x'])),'--r',label='Teoría')\n",
    "plt.xlabel(r'Tiempo muerto [s]',size=15)\n",
    "plt.ylabel(r'cps x 10$^5$',size=15)\n",
    "plt.legend()"
   ]
  },
  {
   "cell_type": "code",
   "execution_count": 18,
   "metadata": {
    "collapsed": true
   },
   "outputs": [],
   "source": [
    "#plt.plot(Actividad_dps,dt['Dead_Time_por'],'o')\n",
    "\n",
    "#plt.xlabel(r'Actividad [dps]',size=15)\n",
    "#plt.ylabel(r'% Tiempo muerto',size=15)\n",
    "#plt.legend()"
   ]
  },
  {
   "cell_type": "code",
   "execution_count": 13,
   "metadata": {},
   "outputs": [
    {
     "data": {
      "text/plain": [
       "(0, 700)"
      ]
     },
     "execution_count": 13,
     "metadata": {},
     "output_type": "execute_result"
    },
    {
     "data": {
      "image/png": "[encoded data removed]",
      "text/plain": [
       "<Figure size 432x288 with 1 Axes>"
      ]
     },
     "metadata": {},
     "output_type": "display_data"
    }
   ],
   "source": [
    "table = df.pivot(index ='Channel',columns ='RN')\n",
    "#table.columns\n",
    "#table\n",
    "table.plot()\n",
    "plt.xlim([0,700])"
   ]
  },
  {
   "cell_type": "code",
   "execution_count": 14,
   "metadata": {},
   "outputs": [
    {
     "data": {
      "text/plain": [
       "[<matplotlib.lines.Line2D at 0x117a51f60>]"
      ]
     },
     "execution_count": 14,
     "metadata": {},
     "output_type": "execute_result"
    },
    {
     "data": {
      "image/png": "[encoded data removed]",
      "text/plain": [
       "<Figure size 432x288 with 1 Axes>"
      ]
     },
     "metadata": {},
     "output_type": "display_data"
    }
   ],
   "source": [
    "#### Graficar Espectro y fondo \n",
    "Canal = table.index\n",
    "Fondo = table['Counts']['Fondo']\n",
    "\n",
    "#### Fuente tipo barra\n",
    "#Fuente = table['Counts']['Na22']\n",
    "\n",
    "plt.title('Fondo')\n",
    "plt.xlabel('Canal')\n",
    "plt.ylabel('Cuentas')\n",
    "plt.plot(Canal,Fondo)\n",
    "#plt.plot(Canal,Fuente)\n",
    "\n",
    "#plt.savefig('Fondo_source_bar.pdf')"
   ]
  },
  {
   "cell_type": "code",
   "execution_count": 18,
   "metadata": {},
   "outputs": [
    {
     "data": {
      "image/png": "[encoded data removed]",
      "text/plain": [
       "<Figure size 1080x576 with 16 Axes>"
      ]
     },
     "metadata": {},
     "output_type": "display_data"
    }
   ],
   "source": [
    "fig, axs = plt.subplots(2, 4, sharex='col',figsize=(15,8), constrained_layout=True)\n",
    "\n",
    "#plt.figure(figsize=(12,8))\n",
    "\n",
    "axs[0, 0].plot(Canal, table['Counts']['Na22'],'r')\n",
    "axs[0, 0].set_title(\"Na-22\")\n",
    "axs[0, 1].plot(Canal,table['Counts']['Mn54'],'orange')\n",
    "axs[0, 1].set_title(\"Mn-54\")\n",
    "#axs[1, 0].sharex(axs[0, 0])\n",
    "axs[0, 2].plot(Canal, table['Counts']['Co57'],'y')\n",
    "axs[0, 2].set_title(\"Co-57\")\n",
    "axs[0, 3].plot(Canal, table['Counts']['Co60'],'g')\n",
    "axs[0, 3].set_title(\"Co-60\")\n",
    "axs[1, 0].plot(Canal, table['Counts']['Cd109'],'c')\n",
    "axs[1, 0].set_title(\"Cd-109\")\n",
    "axs[1, 1].plot(Canal, table['Counts']['Ba133'],'b')\n",
    "axs[1, 1].set_title(\"Ba-133\")\n",
    "axs[1, 2].plot(Canal, table['Counts']['Cs137'],'violet')\n",
    "axs[1, 2].set_title(\"Cs-137\")\n",
    "axs[1, 3].plot(Canal, table['Counts']['Eu152'],'m')\n",
    "axs[1, 3].set_title(\"Eu-152\")\n",
    "\n",
    "\n",
    "for ax in axs.flat:\n",
    "    #ax.set_xlim([0, 950])\n",
    "    ax.set(xlabel='Canal', ylabel='Cuentas')\n",
    "    \n",
    "# Hide x labels and tick labels for top plots and y ticks for right plots.\n",
    "#for ax in axs.flat:\n",
    "    #ax.label_outer()\n",
    "\n",
    "fig.tight_layout()\n",
    "#fig.savefig('Source_bar.pdf')"
   ]
  },
  {
   "cell_type": "markdown",
   "metadata": {},
   "source": [
    "### Método A. Sustracción de espectro de fondo del espectro de la muestra"
   ]
  },
  {
   "cell_type": "code",
   "execution_count": 203,
   "metadata": {
    "collapsed": true
   },
   "outputs": [],
   "source": [
    "table[('Counts','Na22b')] =(table[('Counts', 'Na22')]-np.round(((table[('Counts', 'Fondo')]/999.95)*1000),0))\n",
    "table[('Counts','Co57b')] =(table[('Counts', 'Co57')]-np.round(((table[('Counts', 'Fondo')]/999.95)*1000),0))\n",
    "table[('Counts','Mn54b')] =(table[('Counts', 'Mn54')]-np.round(((table[('Counts', 'Fondo')]/999.95)*1000),0))\n",
    "table[('Counts','Co60b')] =(table[('Counts', 'Co60')]-np.round(((table[('Counts', 'Fondo')]/999.95)*1000),0))\n",
    "table[('Counts','Cd109b')] =(table[('Counts', 'Cd109')]-np.round(((table[('Counts', 'Fondo')]/999.95)*1000),0))\n",
    "table[('Counts','Ba133b')] =(table[('Counts', 'Ba133')]-np.round(((table[('Counts', 'Fondo')]/999.95)*1000),0))\n",
    "table[('Counts','Cs137b')] =(table[('Counts', 'Cs137')]-np.round(((table[('Counts', 'Fondo')]/999.95)*1000),0))\n",
    "table[('Counts','Eu152b')] =(table[('Counts', 'Eu152')]-np.round(((table[('Counts', 'Fondo')]/999.95)*1000),0))"
   ]
  },
  {
   "cell_type": "code",
   "execution_count": 211,
   "metadata": {
    "collapsed": true
   },
   "outputs": [],
   "source": [
    "#table"
   ]
  }
 ],
 "metadata": {
  "kernelspec": {
   "display_name": "Python 3",
   "language": "python",
   "name": "python3"
  },
  "language_info": {
   "codemirror_mode": {
    "name": "ipython",
    "version": 3
   },
   "file_extension": ".py",
   "mimetype": "text/x-python",
   "name": "python",
   "nbconvert_exporter": "python",
   "pygments_lexer": "ipython3",
   "version": "3.5.5"
  }
 },
 "nbformat": 4,
 "nbformat_minor": 2
}
