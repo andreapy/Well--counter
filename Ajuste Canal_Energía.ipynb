{
 "cells": [
  {
   "cell_type": "code",
   "execution_count": 37,
   "metadata": {},
   "outputs": [
    {
     "data": {
      "text/html": [
       "<div>\n",
       "<table border=\"1\" class=\"dataframe\">\n",
       "  <thead>\n",
       "    <tr style=\"text-align: right;\">\n",
       "      <th></th>\n",
       "      <th>RN</th>\n",
       "      <th>y</th>\n",
       "      <th>x</th>\n",
       "      <th>sigmay</th>\n",
       "    </tr>\n",
       "  </thead>\n",
       "  <tbody>\n",
       "    <tr>\n",
       "      <th>0</th>\n",
       "      <td>Cs-137</td>\n",
       "      <td>16.35</td>\n",
       "      <td>32.0000</td>\n",
       "      <td>1.90</td>\n",
       "    </tr>\n",
       "    <tr>\n",
       "      <th>1</th>\n",
       "      <td>Cd-109</td>\n",
       "      <td>46.54</td>\n",
       "      <td>88.0336</td>\n",
       "      <td>2.86</td>\n",
       "    </tr>\n",
       "    <tr>\n",
       "      <th>2</th>\n",
       "      <td>Na-22</td>\n",
       "      <td>256.49</td>\n",
       "      <td>511.0000</td>\n",
       "      <td>10.32</td>\n",
       "    </tr>\n",
       "    <tr>\n",
       "      <th>3</th>\n",
       "      <td>Cs-137</td>\n",
       "      <td>329.48</td>\n",
       "      <td>661.6570</td>\n",
       "      <td>11.84</td>\n",
       "    </tr>\n",
       "    <tr>\n",
       "      <th>4</th>\n",
       "      <td>Na-22</td>\n",
       "      <td>515.53</td>\n",
       "      <td>1022.0000</td>\n",
       "      <td>13.89</td>\n",
       "    </tr>\n",
       "    <tr>\n",
       "      <th>5</th>\n",
       "      <td>Co-60</td>\n",
       "      <td>574.40</td>\n",
       "      <td>1173.2280</td>\n",
       "      <td>16.54</td>\n",
       "    </tr>\n",
       "    <tr>\n",
       "      <th>6</th>\n",
       "      <td>Na-22</td>\n",
       "      <td>622.83</td>\n",
       "      <td>1274.5370</td>\n",
       "      <td>18.11</td>\n",
       "    </tr>\n",
       "    <tr>\n",
       "      <th>7</th>\n",
       "      <td>Co-60</td>\n",
       "      <td>650.68</td>\n",
       "      <td>1332.4920</td>\n",
       "      <td>17.82</td>\n",
       "    </tr>\n",
       "    <tr>\n",
       "      <th>8</th>\n",
       "      <td>Na-22</td>\n",
       "      <td>880.61</td>\n",
       "      <td>1785.5370</td>\n",
       "      <td>20.13</td>\n",
       "    </tr>\n",
       "  </tbody>\n",
       "</table>\n",
       "</div>"
      ],
      "text/plain": [
       "       RN       y          x  sigmay\n",
       "0  Cs-137   16.35    32.0000    1.90\n",
       "1  Cd-109   46.54    88.0336    2.86\n",
       "2   Na-22  256.49   511.0000   10.32\n",
       "3  Cs-137  329.48   661.6570   11.84\n",
       "4   Na-22  515.53  1022.0000   13.89\n",
       "5   Co-60  574.40  1173.2280   16.54\n",
       "6   Na-22  622.83  1274.5370   18.11\n",
       "7   Co-60  650.68  1332.4920   17.82\n",
       "8   Na-22  880.61  1785.5370   20.13"
      ]
     },
     "execution_count": 37,
     "metadata": {},
     "output_type": "execute_result"
    }
   ],
   "source": [
    "from scipy.optimize import curve_fit\n",
    "import numpy as np\n",
    "import matplotlib.pyplot as plt\n",
    "import seaborn as sns\n",
    "import pandas as pd\n",
    "%matplotlib inline\n",
    "\n",
    "### dummie\n",
    "#data = pd.read_csv('Ajuste_Inuclear.txt', delim_whitespace =True)\n",
    "\n",
    "#### Datos\n",
    "data= pd.read_csv('ChannelEnergy.txt', delim_whitespace =True)\n",
    "\n",
    "### Y y sigma Y en canales. x en Energía keV\n",
    "\n",
    "headers = [\"RN\",\"y\",\"x\",\"sigmay\"]\n",
    "\n",
    "data.columns = headers\n",
    "\n",
    "\n",
    "\n",
    "data"
   ]
  },
  {
   "cell_type": "markdown",
   "metadata": {},
   "source": [
    "# Método Detallado "
   ]
  },
  {
   "cell_type": "markdown",
   "metadata": {},
   "source": [
    "### Ajuste por el metodo de mínimos cuadrados \n",
    "$$\n",
    "\\begin{equation}\n",
    "y(x) = a+bx\\\\\n",
    "\\end{equation}\n",
    "$$\n",
    "\n",
    "\n",
    "$$\n",
    "\\begin{align}\n",
    "S= \\sum \\frac{1}{\\sigma_i^2}  \\; \\; \\; S_x= \\sum \\frac{x_i}{\\sigma_i^2}\\; \\; \\; S_y= \\sum \\frac{y_i}{\\sigma_i^2}\\\\\n",
    " S_{xx}= \\sum \\frac{x_i^2}{\\sigma_i^2}\\; \\; \\; S_{xy}= \\sum \\frac{x_iy_i}{\\sigma_i^2}\n",
    "\\end{align}\n",
    "$$"
   ]
  },
  {
   "cell_type": "code",
   "execution_count": 38,
   "metadata": {
    "collapsed": true
   },
   "outputs": [],
   "source": [
    "#### Pesos    $w = 1/\\sigma^2$\n",
    "w=1/(data['sigmay']**2)\n",
    "S=sum(w)"
   ]
  },
  {
   "cell_type": "code",
   "execution_count": 39,
   "metadata": {
    "collapsed": true
   },
   "outputs": [],
   "source": [
    "x=data['x']*w\n",
    "Sx=sum(x)"
   ]
  },
  {
   "cell_type": "code",
   "execution_count": 40,
   "metadata": {
    "collapsed": true
   },
   "outputs": [],
   "source": [
    "xx=((data['x'])**2)*w\n",
    "Sxx=sum(xx)"
   ]
  },
  {
   "cell_type": "code",
   "execution_count": 41,
   "metadata": {
    "collapsed": true
   },
   "outputs": [],
   "source": [
    "y=data['y']*w\n",
    "Sy=sum(y)"
   ]
  },
  {
   "cell_type": "code",
   "execution_count": 42,
   "metadata": {
    "collapsed": true
   },
   "outputs": [],
   "source": [
    "xy=(data['x']*data['y'])*w\n",
    "Sxy=sum(xy)"
   ]
  },
  {
   "cell_type": "markdown",
   "metadata": {},
   "source": [
    "$$\n",
    "\\begin{align}\n",
    "a=\\frac{1}{\\Delta}(S_{xx}S_{y}-S_xS_{xy})\\\\\n",
    "b=\\frac{1}{\\Delta}(SS_{xy}-S_xS_y)\\\\\n",
    "\\Delta= SS_{xx}-(S_x)^2\n",
    "\\end{align}\n",
    "$$"
   ]
  },
  {
   "cell_type": "code",
   "execution_count": 43,
   "metadata": {
    "collapsed": true
   },
   "outputs": [],
   "source": [
    "### Calculando Delta \n",
    "det=(S*Sxx)-(Sx)**2"
   ]
  },
  {
   "cell_type": "markdown",
   "metadata": {},
   "source": [
    "### Ajuste con pesos de a y b "
   ]
  },
  {
   "cell_type": "code",
   "execution_count": 44,
   "metadata": {},
   "outputs": [
    {
     "data": {
      "text/plain": [
       "1.4228792591592396"
      ]
     },
     "execution_count": 44,
     "metadata": {},
     "output_type": "execute_result"
    }
   ],
   "source": [
    "a=((Sxx*Sy)-(Sx*Sxy))/det\n",
    "a"
   ]
  },
  {
   "cell_type": "code",
   "execution_count": 45,
   "metadata": {},
   "outputs": [
    {
     "data": {
      "text/plain": [
       "0.49305667675354248"
      ]
     },
     "execution_count": 45,
     "metadata": {},
     "output_type": "execute_result"
    }
   ],
   "source": [
    "b=((S*Sxy)-(Sx*Sy))/det\n",
    "b"
   ]
  },
  {
   "cell_type": "markdown",
   "metadata": {},
   "source": [
    "#### Incertidumbres\n",
    "$$\n",
    "\\begin{align}\n",
    "\\text{error a}=\\sqrt{\\frac{S_{xx}}{\\Delta}}\\\\\n",
    "\\text{error b}=\\sqrt{\\frac{S}{\\Delta}}\\\\\n",
    "\\end{align}\n",
    "$$"
   ]
  },
  {
   "cell_type": "code",
   "execution_count": 46,
   "metadata": {
    "collapsed": true
   },
   "outputs": [],
   "source": [
    "# incertidumbre a\n",
    "inca= np.sqrt(Sxx/det)\n",
    "# incertidumbre b\n",
    "incb=np.sqrt(S/det)"
   ]
  },
  {
   "cell_type": "code",
   "execution_count": 47,
   "metadata": {},
   "outputs": [
    {
     "data": {
      "text/plain": [
       "1.667290983516055"
      ]
     },
     "execution_count": 47,
     "metadata": {},
     "output_type": "execute_result"
    }
   ],
   "source": [
    "inca"
   ]
  },
  {
   "cell_type": "code",
   "execution_count": 48,
   "metadata": {},
   "outputs": [
    {
     "data": {
      "text/plain": [
       "0.0058115469159796254"
      ]
     },
     "execution_count": 48,
     "metadata": {},
     "output_type": "execute_result"
    }
   ],
   "source": [
    "incb"
   ]
  },
  {
   "cell_type": "code",
   "execution_count": 61,
   "metadata": {},
   "outputs": [
    {
     "data": {
      "text/plain": [
       "<matplotlib.legend.Legend at 0x1a193e7b00>"
      ]
     },
     "execution_count": 61,
     "metadata": {},
     "output_type": "execute_result"
    },
    {
     "data": {
      "image/png": "[encoded data removed]",
      "text/plain": [
       "<Figure size 432x288 with 1 Axes>"
      ]
     },
     "metadata": {},
     "output_type": "display_data"
    }
   ],
   "source": [
    "### Experimento \n",
    "plt.errorbar(data['x'],data['y'], yerr=data['sigmay'],fmt='.b',label='Experimento',capsize=5)\n",
    "\n",
    "### Ajuste\n",
    "plt.plot(data['x'],a +b*data['x'],'--r',label='Ajuste')\n",
    "\n",
    "\n",
    "##### Dummie\n",
    "#plt.xlabel(r'x',size=15)\n",
    "#plt.ylabel(r'y',size=15)\n",
    "\n",
    "##### Canal- Energía\n",
    "plt.xlabel(r'Energía [keV]',size=15)\n",
    "plt.ylabel(r'Canal',size=15)\n",
    "\n",
    "tx=r'$\\mathbf{{Canal}}$ = {:.2f}({:.2f})+ {:.2f}({:.2f}) E'\n",
    "plt.annotate(tx.format(a,inca,b,incb),xy=(300, 50), fontsize=14, fontweight=\"bold\")\n",
    "#plt.text(12,4,'y=')\n",
    "plt.legend()"
   ]
  },
  {
   "cell_type": "markdown",
   "metadata": {},
   "source": [
    "#### Chi cuadrado"
   ]
  },
  {
   "cell_type": "code",
   "execution_count": 62,
   "metadata": {
    "collapsed": true
   },
   "outputs": [],
   "source": [
    "chicuadrado= sum(((data['y']-(a+(b*data['x'])))/data['sigmay'])**2)"
   ]
  },
  {
   "cell_type": "code",
   "execution_count": 63,
   "metadata": {},
   "outputs": [
    {
     "data": {
      "text/plain": [
       "1.6650966829060525"
      ]
     },
     "execution_count": 63,
     "metadata": {},
     "output_type": "execute_result"
    }
   ],
   "source": [
    "chicuadrado"
   ]
  },
  {
   "cell_type": "markdown",
   "metadata": {},
   "source": [
    "# Método \"rápido\" python "
   ]
  },
  {
   "cell_type": "code",
   "execution_count": 64,
   "metadata": {
    "collapsed": true
   },
   "outputs": [],
   "source": [
    "def func(x,c,d):\n",
    "    return c+d*x"
   ]
  },
  {
   "cell_type": "code",
   "execution_count": 65,
   "metadata": {
    "collapsed": true
   },
   "outputs": [],
   "source": [
    "#### curve fit [with only y-error]\n",
    "popt,pcov=curve_fit(func,data['x'],data['y'],sigma=data['sigmay'])"
   ]
  },
  {
   "cell_type": "code",
   "execution_count": 66,
   "metadata": {},
   "outputs": [
    {
     "data": {
      "text/plain": [
       "array([[  6.61247595e-01,  -9.49678815e-04],\n",
       "       [ -9.49678815e-04,   8.03386947e-06]])"
      ]
     },
     "execution_count": 66,
     "metadata": {},
     "output_type": "execute_result"
    }
   ],
   "source": [
    "pcov"
   ]
  },
  {
   "cell_type": "code",
   "execution_count": 67,
   "metadata": {
    "collapsed": true
   },
   "outputs": [],
   "source": [
    "perr=np.sqrt(np.diag(pcov))"
   ]
  },
  {
   "cell_type": "code",
   "execution_count": 68,
   "metadata": {},
   "outputs": [
    {
     "name": "stdout",
     "output_type": "stream",
     "text": [
      "fit parameter 1-sigma estimates\n",
      "-------\n",
      "1.42287934192+-0.813171319386\n",
      "0.493056676764+-0.00283440813326\n"
     ]
    }
   ],
   "source": [
    "### print fit parameters and 1-sigma estimates\n",
    "print('fit parameter 1-sigma estimates')\n",
    "print('-------')\n",
    "for i in range(len(popt)):\n",
    "    print(str(popt[i])+'+-'+str(perr[i]))"
   ]
  },
  {
   "cell_type": "code",
   "execution_count": 69,
   "metadata": {
    "collapsed": true
   },
   "outputs": [],
   "source": [
    "c=popt[0]\n",
    "incc=perr[0]\n",
    "d=popt[1]\n",
    "incd=perr[1]"
   ]
  },
  {
   "cell_type": "code",
   "execution_count": 78,
   "metadata": {},
   "outputs": [
    {
     "data": {
      "text/plain": [
       "<matplotlib.legend.Legend at 0x1a1913feb8>"
      ]
     },
     "execution_count": 78,
     "metadata": {},
     "output_type": "execute_result"
    },
    {
     "data": {
      "image/png": "[encoded data removed]",
      "text/plain": [
       "<Figure size 432x288 with 1 Axes>"
      ]
     },
     "metadata": {},
     "output_type": "display_data"
    }
   ],
   "source": [
    "plt.errorbar(data['x'],data['y'], yerr=data['sigmay'],fmt='.b',label='Experimento',capsize=4)\n",
    "plt.plot(data['x'],c +d*data['x'],'--r',label='Ajuste')\n",
    "#plt.xlabel(r'x',size=15)\n",
    "#plt.ylabel(r'y',size=15)\n",
    "\n",
    "##### Canal- Energía\n",
    "plt.xlabel(r'Energía [keV]',size=15)\n",
    "plt.ylabel(r'Canal',size=15)\n",
    "\n",
    "\n",
    "\n",
    "tx=r'$\\mathbf{{Canal}}$ = {:.2f}({:.2f})+ {:.2f}({:.2f}) E'\n",
    "plt.annotate(tx.format(c,incc,d,incd),xy=(300,50), fontsize=14, fontweight=\"bold\")\n",
    "#plt.text(12,4,'y=')\n",
    "plt.legend()"
   ]
  },
  {
   "cell_type": "code",
   "execution_count": 71,
   "metadata": {},
   "outputs": [
    {
     "data": {
      "text/plain": [
       "1.6650966829060607"
      ]
     },
     "execution_count": 71,
     "metadata": {},
     "output_type": "execute_result"
    }
   ],
   "source": [
    "chicuadrado= sum(((data['y']-(c+(d*data['x'])))/data['sigmay'])**2)\n",
    "chicuadrado"
   ]
  },
  {
   "cell_type": "code",
   "execution_count": null,
   "metadata": {
    "collapsed": true
   },
   "outputs": [],
   "source": []
  },
  {
   "cell_type": "code",
   "execution_count": null,
   "metadata": {
    "collapsed": true
   },
   "outputs": [],
   "source": []
  }
 ],
 "metadata": {
  "kernelspec": {
   "display_name": "Python 3",
   "language": "python",
   "name": "python3"
  },
  "language_info": {
   "codemirror_mode": {
    "name": "ipython",
    "version": 3
   },
   "file_extension": ".py",
   "mimetype": "text/x-python",
   "name": "python",
   "nbconvert_exporter": "python",
   "pygments_lexer": "ipython3",
   "version": "3.5.5"
  }
 },
 "nbformat": 4,
 "nbformat_minor": 2
}
